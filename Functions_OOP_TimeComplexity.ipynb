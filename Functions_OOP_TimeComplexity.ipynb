{
  "nbformat": 4,
  "nbformat_minor": 0,
  "metadata": {
    "colab": {
      "name": "Functions-OOP-TimeComplexity.ipynb",
      "provenance": [],
      "collapsed_sections": [],
      "include_colab_link": true
    },
    "kernelspec": {
      "name": "python3",
      "display_name": "Python 3"
    },
    "language_info": {
      "name": "python"
    }
  },
  "cells": [
    {
      "cell_type": "markdown",
      "metadata": {
        "id": "view-in-github",
        "colab_type": "text"
      },
      "source": [
        "<a href=\"https://colab.research.google.com/github/hanifro/dataset/blob/main/Functions_OOP_TimeComplexity.ipynb\" target=\"_parent\"><img src=\"https://colab.research.google.com/assets/colab-badge.svg\" alt=\"Open In Colab\"/></a>"
      ]
    },
    {
      "cell_type": "markdown",
      "metadata": {
        "id": "t947Ny61Z6Uy"
      },
      "source": [
        "Kamis, 23 Sept 2021"
      ]
    },
    {
      "cell_type": "markdown",
      "metadata": {
        "id": "Le8N3SLcbiAd"
      },
      "source": [
        "# **Fungsi**"
      ]
    },
    {
      "cell_type": "code",
      "metadata": {
        "colab": {
          "base_uri": "https://localhost:8080/"
        },
        "id": "ywDbPVukTDYd",
        "outputId": "be7f875b-395c-45c4-f4ca-bb8e4eb1a54b"
      },
      "source": [
        "# Deklarasi Fungsi\n",
        "def cetak(x):\n",
        "  print(x)\n",
        "\n",
        "# Memanggil Fungsi\n",
        "cetak(\"what?\")"
      ],
      "execution_count": null,
      "outputs": [
        {
          "output_type": "stream",
          "name": "stdout",
          "text": [
            "what?\n"
          ]
        }
      ]
    },
    {
      "cell_type": "code",
      "metadata": {
        "colab": {
          "base_uri": "https://localhost:8080/"
        },
        "id": "RipUgd0NTdjo",
        "outputId": "d55dec20-d6bf-4418-b799-5e327d19f638"
      },
      "source": [
        "# Deklarasi Fungsi dengan pengembalian\n",
        "def tambah(a, b):\n",
        "  return a + b;\n",
        "\n",
        "# Memanggil Fungsi\n",
        "print(tambah(2, 3))"
      ],
      "execution_count": null,
      "outputs": [
        {
          "output_type": "stream",
          "name": "stdout",
          "text": [
            "5\n"
          ]
        }
      ]
    },
    {
      "cell_type": "code",
      "metadata": {
        "id": "Bt5zZmbWOzKo"
      },
      "source": [
        "def nama_fungsi(arg1, arg2, ...):\n",
        "   isi fungsi\n",
        "\n",
        "def fungsi_dengan_pengembalian(arg1, arg2, ...):\n",
        "   isi fungsi\n",
        "  return 'sesuatu'"
      ],
      "execution_count": null,
      "outputs": []
    },
    {
      "cell_type": "markdown",
      "metadata": {
        "id": "SLOP8yGkbpLO"
      },
      "source": [
        "# **Method**"
      ]
    },
    {
      "cell_type": "code",
      "metadata": {
        "id": "XtcgZC2LPXM0"
      },
      "source": [
        "class NamaClass:\n",
        "  def nama_method(arg1, arg2, ...):\n",
        "    # isi method"
      ],
      "execution_count": null,
      "outputs": []
    },
    {
      "cell_type": "code",
      "metadata": {
        "id": "uh927B9_W0N1",
        "colab": {
          "base_uri": "https://localhost:8080/"
        },
        "outputId": "623be35f-d6ce-43ee-a411-43d478a16ad0"
      },
      "source": [
        "# Deklarasi Object (Class)\n",
        "class Kucing(object):\n",
        "  def meong(self):\n",
        "    print(\"meeooong\")\n",
        "\n",
        "# Memanggil method\n",
        "cat = Kucing()\n",
        "cat.meong()"
      ],
      "execution_count": null,
      "outputs": [
        {
          "output_type": "stream",
          "name": "stdout",
          "text": [
            "meeooong\n"
          ]
        }
      ]
    },
    {
      "cell_type": "markdown",
      "metadata": {
        "id": "3WbfqdEWbtsl"
      },
      "source": [
        "# **Lambda Expression**"
      ]
    },
    {
      "cell_type": "code",
      "metadata": {
        "id": "wmZuN2s7ZzAZ",
        "colab": {
          "base_uri": "https://localhost:8080/"
        },
        "outputId": "8cc8624f-fa67-4508-9436-0fcec4ac6366"
      },
      "source": [
        "# Lambda expression\n",
        "tambah = lambda a, b: (a + b)\n",
        "print(tambah(2, 3))"
      ],
      "execution_count": null,
      "outputs": [
        {
          "output_type": "stream",
          "name": "stdout",
          "text": [
            "5\n"
          ]
        }
      ]
    },
    {
      "cell_type": "markdown",
      "metadata": {
        "id": "jxicmjLxkXCa"
      },
      "source": [
        "# **Object Oriented Programming**"
      ]
    },
    {
      "cell_type": "markdown",
      "metadata": {
        "id": "K_u-Dtb6kcBm"
      },
      "source": [
        "## **Encapsulation**"
      ]
    },
    {
      "cell_type": "code",
      "metadata": {
        "id": "9-CEKFKYm2AA",
        "colab": {
          "base_uri": "https://localhost:8080/"
        },
        "outputId": "1bf42ac8-1b3b-4649-e9a2-7f7d95c2279e"
      },
      "source": [
        "nama = \"baping\"\n",
        "usia = 1\n",
        "warna = \"hitam\"\n",
        "jenis = \"persia\"\n",
        "\n",
        "def meongg():\n",
        "  print(\"meeeoonnggg... \")\n",
        "\n",
        "def info_kucing(nama, usia, warna, jenis):\n",
        "  print(f\"nama: {nama}, usia: {usia}, warna: {warna}, jenis: {jenis}\")\n",
        "\n",
        "info_kucing(nama, usia, warna, jenis)\n",
        "\n",
        "\n",
        "class Kucing:\n",
        "  def __init__(self, nama, usia, warna, jenis):\n",
        "    self.nama = nama\n",
        "    self.usia = usia\n",
        "    self.warna = warna\n",
        "    self.jenis = jenis\n",
        "\n",
        "  def myfunc(self):\n",
        "    print(\"Hello my name is \" + self.nama)\n",
        "  \n",
        "  def meong(self):\n",
        "    print(\"meeeoonnggg... \")\n",
        "\n",
        "  def info(self):\n",
        "    print(f\"nama: {self.nama}, usia: {self.usia}, warna: {self.warna}, jenis: {self.jenis}\")\n",
        "\n",
        "\n",
        "kucing1 = Kucing(\"Baping\", 1, \"Hitam\", \"Persia\")\n",
        "\n",
        "kucing1.info()"
      ],
      "execution_count": null,
      "outputs": [
        {
          "output_type": "stream",
          "name": "stdout",
          "text": [
            "nama: baping, usia: 1, warna: hitam, jenis: persia\n",
            "nama: Baping, usia: 1, warna: Hitam, jenis: Persia\n"
          ]
        }
      ]
    },
    {
      "cell_type": "markdown",
      "metadata": {
        "id": "Xpt9Lz6vqN-z"
      },
      "source": [
        "## **Abstraction**"
      ]
    },
    {
      "cell_type": "code",
      "metadata": {
        "id": "fwa_TEf-v_8f",
        "colab": {
          "base_uri": "https://localhost:8080/"
        },
        "outputId": "e66ae5a3-c353-4c45-8756-1cce73df5acf"
      },
      "source": [
        "# Memanggil method dari objek tanpa harus mengetahui cara kerja method\n",
        "kucing1.myfunc()"
      ],
      "execution_count": null,
      "outputs": [
        {
          "output_type": "stream",
          "name": "stdout",
          "text": [
            "Hello my name is Baping\n"
          ]
        }
      ]
    },
    {
      "cell_type": "markdown",
      "metadata": {
        "id": "wBoEkCxewdrg"
      },
      "source": [
        "## **Inheritence**"
      ]
    },
    {
      "cell_type": "code",
      "metadata": {
        "id": "HsVgKNgowiRP",
        "colab": {
          "base_uri": "https://localhost:8080/"
        },
        "outputId": "d3035857-9342-4f0d-d0a4-0dda2abb2be2"
      },
      "source": [
        "class Binatang(object):\n",
        "  def __init__(self, nama, usia, jenis, mamalia):\n",
        "    self.nama = nama\n",
        "    self.usia = usia\n",
        "    self.jenis = jenis\n",
        "    self.mamalia = mamalia\n",
        "\n",
        "  def tidur(self, durasi):\n",
        "    for x in range(durasi):\n",
        "      print(\"ddrrr... ddrrr... \")\n",
        "\n",
        "  def info(self):\n",
        "    print(f\"nama: {self.nama}, usia: {self.usia}, jenis: {self.jenis}, mamalia: {self.mamalia}\")\n",
        "\n",
        "\n",
        "animal1 = Binatang(\"Baping\", 1, \"omnivora\", True)\n",
        "\n",
        "animal1.info()\n",
        "\n",
        "class Kucing(Binatang):\n",
        "  def __init__(self,  nama, usia, jenis, mamalia, warna, jenis_kucing):\n",
        "    super().__init__(nama, usia, jenis, mamalia)\n",
        "    self.warna = warna\n",
        "    self.jenis_kucing = jenis_kucing\n",
        "  \n",
        "  def meong(self):\n",
        "    print(\"meeeonnggg\")\n",
        "\n",
        "  def info_kucing(self):\n",
        "    print(f\"warna: {self.warna}, jenis kucing: {self.jenis_kucing}\")\n",
        "\n",
        "cat1 = Kucing(\"Baping\", 1, \"omnivora\", True, \"Hitam\", \"Persia\")\n",
        "\n",
        "cat1.info()\n",
        "cat1.info_kucing()"
      ],
      "execution_count": null,
      "outputs": [
        {
          "output_type": "stream",
          "name": "stdout",
          "text": [
            "nama: Baping, usia: 1, jenis: omnivora, mamalia: True\n",
            "nama: Baping, usia: 1, jenis: omnivora, mamalia: True\n",
            "warna: Hitam, jenis kucing: Persia\n"
          ]
        }
      ]
    },
    {
      "cell_type": "markdown",
      "metadata": {
        "id": "lLLHjBNp1HDe"
      },
      "source": [
        "## **Polymorphism**"
      ]
    },
    {
      "cell_type": "code",
      "metadata": {
        "id": "BZLA6LDrxDHr",
        "colab": {
          "base_uri": "https://localhost:8080/"
        },
        "outputId": "86e79587-b4c7-4020-ea46-19c4294d27ae"
      },
      "source": [
        "class Ikan(Binatang):\n",
        "  def __init__(self,  nama, usia, jenis, mamalia, warna, jenis_air, jenis_ikan):\n",
        "    super().__init__(nama, usia, jenis, mamalia)\n",
        "    self.warna = warna\n",
        "    self.jenis_air = jenis_air\n",
        "    self.jenis_ikan = jenis_ikan\n",
        "  \n",
        "  def berenang(self, durasi):\n",
        "    print(\"wushh... wush... \")\n",
        "\n",
        "  def info_ikan(self):\n",
        "    print(f\"warna: {self.warna}, jenis ikan: {self.jenis_ikan}, jenis air: {self.jenis_air}\")\n",
        "\n",
        "fish1 = Ikan(\"Bubu\", 2, \"omnivora\", False, \"Merah Putih\", \"Tawar\", \"Koi\")\n",
        "\n",
        "fish1.info()\n",
        "fish1.info_ikan()\n",
        "fish1.tidur(5)"
      ],
      "execution_count": null,
      "outputs": [
        {
          "output_type": "stream",
          "name": "stdout",
          "text": [
            "nama: Bubu, usia: 2, jenis: omnivora, mamalia: False\n",
            "warna: Merah Putih, jenis ikan: Koi, jenis air: Tawar\n",
            "ddrrr... ddrrr... \n",
            "ddrrr... ddrrr... \n",
            "ddrrr... ddrrr... \n",
            "ddrrr... ddrrr... \n",
            "ddrrr... ddrrr... \n"
          ]
        }
      ]
    },
    {
      "cell_type": "markdown",
      "metadata": {
        "id": "bse6mJ62GOR1"
      },
      "source": [
        "## **Activity OOP**\n",
        "\n",
        "Buatlah 3 OOP beserta turunannya dari objek sekitar, buat ulang seperti yang diatas (encapsulation, abstaction, inheritance, polymorphism)"
      ]
    },
    {
      "cell_type": "markdown",
      "metadata": {
        "id": "knROBQFiRrbw"
      },
      "source": [
        "### **Encapsulation**"
      ]
    },
    {
      "cell_type": "code",
      "metadata": {
        "colab": {
          "base_uri": "https://localhost:8080/"
        },
        "id": "Btt0LHZeRhbj",
        "outputId": "3a736cd6-af03-4055-82e2-02285e4ab129"
      },
      "source": [
        "merek_laptop = \"Aacer\"\n",
        "warna = \"Hitam\"\n",
        "processor = \"intel\"\n",
        "sistem_operasi = \"windows 8\"\n",
        "\n",
        "def tring():\n",
        "  print(\"triingggg... \")\n",
        "\n",
        "def info_laptop(merek_laptop, warna, processor, sistem_operasi):\n",
        "  print(f\"merek_laptop: {merek_laptop}, warna: {warna}, processor: {processor}, sistem_operasi: {sistem_operasi}\")\n",
        "\n",
        "info_laptop(merek_laptop, warna, processor, sistem_operasi)\n",
        "\n",
        "\n",
        "class Laptop:\n",
        "  def __init__(self, merek_laptop, warna, processor, sistem_operasi):\n",
        "    self.merek_laptop = merek_laptop\n",
        "    self.warna = warna\n",
        "    self.processor = processor\n",
        "    self.sistem_operasi = sistem_operasi\n",
        "\n",
        "  def myfunc(self):\n",
        "    print(\"laptop \" + self.merek_laptop)\n",
        "  \n",
        "  def tring(self):\n",
        "    print(\"triingggg... \")\n",
        "\n",
        "  def info(self):\n",
        "    print(f\"merek_laptop: {self.merek_laptop}, warna: {self.warna}, processor: {self.processor}, sistem_operasi: {self.sistem_operasi}\")\n",
        "\n",
        "\n",
        "laptop1 = Laptop(\"Acer\", \"Hitam\", \"intel\", \"windows 8\")\n",
        "\n",
        "laptop1.info()"
      ],
      "execution_count": null,
      "outputs": [
        {
          "output_type": "stream",
          "name": "stdout",
          "text": [
            "merek_laptop: Aacer, warna: Hitam, processor: intel, sistem_operasi: windows 8\n",
            "merek_laptop: Acer, warna: Hitam, processor: intel, sistem_operasi: windows 8\n"
          ]
        }
      ]
    },
    {
      "cell_type": "markdown",
      "metadata": {
        "id": "J6I7Uw-0bW9Z"
      },
      "source": [
        "### **Abstraction**"
      ]
    },
    {
      "cell_type": "code",
      "metadata": {
        "colab": {
          "base_uri": "https://localhost:8080/"
        },
        "id": "Eka2viNObd3S",
        "outputId": "28578426-e350-411f-936d-f73b51c40e73"
      },
      "source": [
        "# Memanggil method dari objek tanpa harus mengetahui cara kerja method\n",
        "laptop1.myfunc()"
      ],
      "execution_count": null,
      "outputs": [
        {
          "output_type": "stream",
          "name": "stdout",
          "text": [
            "laptop Acer\n"
          ]
        }
      ]
    },
    {
      "cell_type": "markdown",
      "metadata": {
        "id": "qEVgV4ZDbtMN"
      },
      "source": [
        "## **Inheritence**"
      ]
    },
    {
      "cell_type": "code",
      "metadata": {
        "colab": {
          "base_uri": "https://localhost:8080/"
        },
        "id": "AI-NLy6lbtMO",
        "outputId": "1bbc3b04-7432-467f-ff85-1d3db2524478"
      },
      "source": [
        "class Teknologi(object):\n",
        "  def __init__(self, merek_laptop, processor, sistem_operasi, harga):\n",
        "    self.merek_laptop = merek_laptop\n",
        "    self.processor = processor\n",
        "    self.sistem_operasi = sistem_operasi\n",
        "    self.harga = harga\n",
        "\n",
        "  def bunyi(self, durasi):\n",
        "    for x in range(durasi):\n",
        "      print(\"ngingg... ngingg... \")\n",
        "\n",
        "  def info(self):\n",
        "    print(f\"merek_laptop: {self.merek_laptop}, processor: {self.processor}, sistem_operasi: {self.sistem_operasi}, harga: {self.harga}\")\n",
        "\n",
        "\n",
        "tecno1 = Teknologi(\"Acer\", \"intel\", \"windows 8\", \"Rp.4jt\")\n",
        "\n",
        "tecno1.info()  #fungsinya sama dengan tech1.info\n",
        "\n",
        "class Laptop(Teknologi):\n",
        "  def __init__(self,  merek_laptop, processor, sistem_operasi, harga, warna, ukuran_layar):\n",
        "    super().__init__(merek_laptop, processor, sistem_operasi, harga)\n",
        "    self.warna = warna\n",
        "    self.ukuran_layar = ukuran_layar\n",
        "  \n",
        "  def error(self):\n",
        "    print(\"beep.. beep..\")\n",
        "\n",
        "  def info_laptop(self):\n",
        "    print(f\"warna: {self.warna}, ukuran layar: {self.ukuran_layar}\")\n",
        "\n",
        "tech1 = Laptop(\"Acer\", \"intel\", \"windows 8\", \"Rp.4jt\", \"Hitam\", \"14 inch\")\n",
        "\n",
        "tech1.info()\n",
        "tech1.info_laptop()"
      ],
      "execution_count": null,
      "outputs": [
        {
          "output_type": "stream",
          "name": "stdout",
          "text": [
            "merek_laptop: Acer, processor: intel, sistem_operasi: windows 8, harga: Rp.4jt\n",
            "merek_laptop: Acer, processor: intel, sistem_operasi: windows 8, harga: Rp.4jt\n",
            "warna: Hitam, ukuran layar: 14 inch\n"
          ]
        }
      ]
    },
    {
      "cell_type": "markdown",
      "metadata": {
        "id": "7xgs52rPs_-Q"
      },
      "source": [
        "## **Polymorphism**"
      ]
    },
    {
      "cell_type": "code",
      "metadata": {
        "colab": {
          "base_uri": "https://localhost:8080/"
        },
        "id": "mVtW8Q7Zs_-R",
        "outputId": "4b048dc6-b3f8-4b71-b402-01e2cb0bb46e"
      },
      "source": [
        "class Laptop(Teknologi):\n",
        "  def __init__(self,  merek_laptop, processor, sistem_operasi, harga, warna, ukuran_layar, RAM):\n",
        "    super().__init__(merek_laptop, processor, sistem_operasi, harga)\n",
        "    self.warna = warna\n",
        "    self.ukuran_layar = ukuran_layar\n",
        "    self.RAM = RAM\n",
        "  \n",
        "  def mengetik(self, durasi):\n",
        "    print(\"klik... klikk... \")\n",
        "\n",
        "  def info_laptop(self):\n",
        "    print(f\"warna: {self.warna}, ukuran layar: {self.ukuran_layar}, RAM: {self.RAM}\")\n",
        "\n",
        "tech1 = Laptop(\"Acer\", \"Intel\", \"Windows 8\", \"Rp.4jt\", \"Hitam\", \"14 inch\", \"4 GB\")\n",
        "\n",
        "tech1.info()\n",
        "tech1.info_laptop()\n",
        "tech1.bunyi(3)      #ambil dari inheritence\n",
        "tech1.mengetik(1)"
      ],
      "execution_count": null,
      "outputs": [
        {
          "output_type": "stream",
          "name": "stdout",
          "text": [
            "merek_laptop: Acer, processor: Intel, sistem_operasi: Windows 8, harga: Rp.4jt\n",
            "warna: Hitam, ukuran layar: 14 inch, RAM: 4 GB\n",
            "ngingg... ngingg... \n",
            "ngingg... ngingg... \n",
            "ngingg... ngingg... \n",
            "klik... klikk... \n"
          ]
        }
      ]
    },
    {
      "cell_type": "markdown",
      "metadata": {
        "id": "xf3ylfGtB8qY"
      },
      "source": [
        "# **Time Complexity**\n",
        "## Activity \n",
        "\n",
        "Hitung time complexity dengan bigO Notation pada algoritma berikut:\n",
        "\n",
        "* Tidak perlu di run"
      ]
    },
    {
      "cell_type": "code",
      "metadata": {
        "id": "fnk4oJoJCJJG",
        "colab": {
          "base_uri": "https://localhost:8080/"
        },
        "outputId": "f76afd2e-3952-4062-848d-e926236041b0"
      },
      "source": [
        "# 1\n",
        "\n",
        "arr = [1, 2, 3, 4, 5]\n",
        "\n",
        "print(arr[0])\n",
        "print(arr[1])"
      ],
      "execution_count": null,
      "outputs": [
        {
          "output_type": "stream",
          "name": "stdout",
          "text": [
            "1\n",
            "2\n"
          ]
        }
      ]
    },
    {
      "cell_type": "code",
      "metadata": {
        "id": "LCgmhC-qD0p2",
        "colab": {
          "base_uri": "https://localhost:8080/"
        },
        "outputId": "2d47b5e9-2ba8-4f5b-aa37-68316dd7210d"
      },
      "source": [
        "# 2\n",
        "\n",
        "print(arr[2])\n",
        "for number in arr:\n",
        "  print(number)\n",
        "print(arr[1])\n",
        "print(arr[2])"
      ],
      "execution_count": null,
      "outputs": [
        {
          "output_type": "stream",
          "name": "stdout",
          "text": [
            "3\n",
            "1\n",
            "2\n",
            "3\n",
            "4\n",
            "5\n",
            "2\n",
            "3\n"
          ]
        }
      ]
    },
    {
      "cell_type": "code",
      "metadata": {
        "id": "w5Upv3LdECFO",
        "colab": {
          "base_uri": "https://localhost:8080/"
        },
        "outputId": "8c0f91e1-f42c-4679-ff1d-61e587406782"
      },
      "source": [
        "# 3\n",
        "\n",
        "arr2 = [6, 7, 8, 9, 10]\n",
        "\n",
        "for number in arr:\n",
        "  print(number)\n",
        "for number in arr2:\n",
        "  print(number)\n",
        "print(arr2[4])"
      ],
      "execution_count": null,
      "outputs": [
        {
          "output_type": "stream",
          "name": "stdout",
          "text": [
            "1\n",
            "2\n",
            "3\n",
            "4\n",
            "5\n",
            "6\n",
            "7\n",
            "8\n",
            "9\n",
            "10\n",
            "10\n"
          ]
        }
      ]
    },
    {
      "cell_type": "code",
      "metadata": {
        "id": "yXtKHziAEghO",
        "colab": {
          "base_uri": "https://localhost:8080/"
        },
        "outputId": "e1e1c4bb-ebe2-4d15-c8ab-31e3ea3ce0a9"
      },
      "source": [
        "# 4\n",
        "\n",
        "print(arr2[1])\n",
        "for number in arr:\n",
        "  print(number)\n",
        "for number in arr:\n",
        "  print(number)"
      ],
      "execution_count": null,
      "outputs": [
        {
          "output_type": "stream",
          "name": "stdout",
          "text": [
            "7\n",
            "1\n",
            "2\n",
            "3\n",
            "4\n",
            "5\n",
            "1\n",
            "2\n",
            "3\n",
            "4\n",
            "5\n"
          ]
        }
      ]
    },
    {
      "cell_type": "code",
      "metadata": {
        "id": "9dXVL-S9EzxT",
        "colab": {
          "base_uri": "https://localhost:8080/"
        },
        "outputId": "16b20c3a-41e0-4d3b-ba55-8a33bc3ca0b9"
      },
      "source": [
        "# 5\n",
        "\n",
        "for number in arr:\n",
        "  for number2 in arr2:\n",
        "    print(number+number2)\n",
        "print(arr[1]+arr2[1])\n",
        "print(arr2[2])"
      ],
      "execution_count": null,
      "outputs": [
        {
          "output_type": "stream",
          "name": "stdout",
          "text": [
            "7\n",
            "8\n",
            "9\n",
            "10\n",
            "11\n",
            "8\n",
            "9\n",
            "10\n",
            "11\n",
            "12\n",
            "9\n",
            "10\n",
            "11\n",
            "12\n",
            "13\n",
            "10\n",
            "11\n",
            "12\n",
            "13\n",
            "14\n",
            "11\n",
            "12\n",
            "13\n",
            "14\n",
            "15\n",
            "9\n",
            "8\n"
          ]
        }
      ]
    },
    {
      "cell_type": "code",
      "metadata": {
        "id": "6SC68I3PFFge",
        "colab": {
          "base_uri": "https://localhost:8080/"
        },
        "outputId": "000e480f-37ba-43ad-eed0-c59713e6adc9"
      },
      "source": [
        "# 6 \n",
        "\n",
        "for number in arr:\n",
        "  for number2 in arr:\n",
        "    print(number+number2)\n",
        "print(arr)"
      ],
      "execution_count": null,
      "outputs": [
        {
          "output_type": "stream",
          "name": "stdout",
          "text": [
            "2\n",
            "3\n",
            "4\n",
            "5\n",
            "6\n",
            "3\n",
            "4\n",
            "5\n",
            "6\n",
            "7\n",
            "4\n",
            "5\n",
            "6\n",
            "7\n",
            "8\n",
            "5\n",
            "6\n",
            "7\n",
            "8\n",
            "9\n",
            "6\n",
            "7\n",
            "8\n",
            "9\n",
            "10\n",
            "[1, 2, 3, 4, 5]\n"
          ]
        }
      ]
    },
    {
      "cell_type": "code",
      "metadata": {
        "id": "b7w1_oXnGXfs",
        "colab": {
          "base_uri": "https://localhost:8080/"
        },
        "outputId": "07aa1bc5-aa96-468a-99ee-d558c1cf476e"
      },
      "source": [
        "# 7 \n",
        "\n",
        "for number in arr:\n",
        "  for number2 in arr2:\n",
        "    for number3 in arr:\n",
        "      print(number+number2+number3)\n",
        "print(arr[1])\n",
        "print(arr2[2])\n",
        "print(arr2[3])"
      ],
      "execution_count": null,
      "outputs": [
        {
          "output_type": "stream",
          "name": "stdout",
          "text": [
            "8\n",
            "9\n",
            "10\n",
            "11\n",
            "12\n",
            "9\n",
            "10\n",
            "11\n",
            "12\n",
            "13\n",
            "10\n",
            "11\n",
            "12\n",
            "13\n",
            "14\n",
            "11\n",
            "12\n",
            "13\n",
            "14\n",
            "15\n",
            "12\n",
            "13\n",
            "14\n",
            "15\n",
            "16\n",
            "9\n",
            "10\n",
            "11\n",
            "12\n",
            "13\n",
            "10\n",
            "11\n",
            "12\n",
            "13\n",
            "14\n",
            "11\n",
            "12\n",
            "13\n",
            "14\n",
            "15\n",
            "12\n",
            "13\n",
            "14\n",
            "15\n",
            "16\n",
            "13\n",
            "14\n",
            "15\n",
            "16\n",
            "17\n",
            "10\n",
            "11\n",
            "12\n",
            "13\n",
            "14\n",
            "11\n",
            "12\n",
            "13\n",
            "14\n",
            "15\n",
            "12\n",
            "13\n",
            "14\n",
            "15\n",
            "16\n",
            "13\n",
            "14\n",
            "15\n",
            "16\n",
            "17\n",
            "14\n",
            "15\n",
            "16\n",
            "17\n",
            "18\n",
            "11\n",
            "12\n",
            "13\n",
            "14\n",
            "15\n",
            "12\n",
            "13\n",
            "14\n",
            "15\n",
            "16\n",
            "13\n",
            "14\n",
            "15\n",
            "16\n",
            "17\n",
            "14\n",
            "15\n",
            "16\n",
            "17\n",
            "18\n",
            "15\n",
            "16\n",
            "17\n",
            "18\n",
            "19\n",
            "12\n",
            "13\n",
            "14\n",
            "15\n",
            "16\n",
            "13\n",
            "14\n",
            "15\n",
            "16\n",
            "17\n",
            "14\n",
            "15\n",
            "16\n",
            "17\n",
            "18\n",
            "15\n",
            "16\n",
            "17\n",
            "18\n",
            "19\n",
            "16\n",
            "17\n",
            "18\n",
            "19\n",
            "20\n",
            "2\n",
            "8\n",
            "9\n"
          ]
        }
      ]
    },
    {
      "cell_type": "code",
      "metadata": {
        "id": "Cm1Hcy3JG6sh",
        "colab": {
          "base_uri": "https://localhost:8080/"
        },
        "outputId": "4d1dbc13-fd72-42f9-d890-f1097c6fa2f4"
      },
      "source": [
        "# 8\n",
        "\n",
        "for number in arr:\n",
        "  print(number)\n",
        "print(arr2)\n",
        "for number in arr:\n",
        "  for number2 in arr2:\n",
        "    print(number+number2)\n",
        "print(arr)"
      ],
      "execution_count": null,
      "outputs": [
        {
          "output_type": "stream",
          "name": "stdout",
          "text": [
            "1\n",
            "2\n",
            "3\n",
            "4\n",
            "5\n",
            "[6, 7, 8, 9, 10]\n",
            "7\n",
            "8\n",
            "9\n",
            "10\n",
            "11\n",
            "8\n",
            "9\n",
            "10\n",
            "11\n",
            "12\n",
            "9\n",
            "10\n",
            "11\n",
            "12\n",
            "13\n",
            "10\n",
            "11\n",
            "12\n",
            "13\n",
            "14\n",
            "11\n",
            "12\n",
            "13\n",
            "14\n",
            "15\n",
            "[1, 2, 3, 4, 5]\n"
          ]
        }
      ]
    },
    {
      "cell_type": "markdown",
      "metadata": {
        "id": "MwXJgaJ9lDC9"
      },
      "source": [
        "9. Algoritma Bubble Sort\n",
        "\n",
        "Merupakan metode pengurutan/sorting dengan cara melakukan penukaran data secara terus menerus sampai bisa dipastikan dalam suatu iterasi tertentu tidak ada lagi perubahan/penukaran."
      ]
    },
    {
      "cell_type": "code",
      "metadata": {
        "id": "EgpO69yqHJ3K"
      },
      "source": [
        "# ALGORITMA BUBBLE SORT\n",
        "\n",
        "def bs(arr):\n",
        "    iterasi = 0\n",
        "    for j in range (len(arr)-1):\n",
        "        for i in range(len(arr)-1-j):\n",
        "            if arr[i]>arr[i+1]:\n",
        "                arr[i],arr[i+1]=arr[i+1],arr[i]\n",
        "        iterasi+=1\n",
        "        print(iterasi, arr)\n",
        "\n",
        "arr = [4, 9, 2, 7, 3, 6, 1, 8, 5]\n",
        "print('Data yang akan di sort :', arr )\n",
        "print('Bubble Sort :')\n",
        "bs(arr)"
      ],
      "execution_count": null,
      "outputs": []
    },
    {
      "cell_type": "markdown",
      "metadata": {
        "id": "igMyKgutlv4B"
      },
      "source": [
        "10. Algoritma Linear Search\n",
        "\n",
        "Merupakan algoritma pencarian nilai tertentu pada sebuah array/list. Algoritma pencarian ini melibatkan pemeriksaan nilai elemen pada list satu demi satu dari ujung list. Algoritma ini juga dikenal juga dengan nama sequential search."
      ]
    },
    {
      "cell_type": "code",
      "metadata": {
        "id": "qD9VauTyG_RJ"
      },
      "source": [
        "# AlGORITMA lINEAR SEARCH \n",
        "\n",
        "arr = [1, 2, 3, 4, 5]\n",
        "x = 3 # elemen yang dicari\n",
        "idx = -1 # posisi elemen yang dicari\n",
        "\n",
        "for i in range(len(arr)):\n",
        "  if arr[i] == x:\n",
        "    idx = i\n",
        "    break\n",
        "\n",
        "if idx == -1:\n",
        "  print('Nilai ',x,'tidak ditemukan')\n",
        "else:\n",
        "  print('Nilai',x,'ditemukan pada indeks',idx)"
      ],
      "execution_count": null,
      "outputs": []
    },
    {
      "cell_type": "markdown",
      "metadata": {
        "id": "zeqb3ZMzmVzm"
      },
      "source": [
        "11. Algoritma Binary Search\n",
        "\n",
        "Merupakan algoritma pencarian pada array/list dengan elemen terurut, yang dilakukan dengan memotong array menjadi 2 bagian secara terus menerus hingga nilai yang dicari ditemukan. Nama lain dari algoritma ini adalah half-interval search, logarithmic search, dan binary chop."
      ]
    },
    {
      "cell_type": "code",
      "metadata": {
        "id": "OaKrQWZJH28k"
      },
      "source": [
        "# ALGORITMA BINARY SEARCH\n",
        "arr = [ 1, 2, 3, 4, 5]                                # List\n",
        "yourNumber = int(input('Insert Number to search ? ')) # angka yang ingin dicari\n",
        "firstIndex = 0                                        # index pertama/batas awal\n",
        "lastIndex = len(arr)-1                               # index terakhir/batas akhir\n",
        "ditemukan = False                                 # Untuk memberikan kondisi adanya angka\n",
        "arr.sort()                                        # binary search harus diurutkan (untuk list yg masih acak)\n",
        "while firstIndex <= lastIndex and not ditemukan:\n",
        "    middleIndex = (firstIndex + lastIndex) // 2     # mencari index tengah: firstIndex + (lastIndex - firstIndex) -> bentuk lain\n",
        "    if arr[middleIndex] == yourNumber:\n",
        "        ditemukan = True\n",
        "    else:\n",
        "        if yourNumber < arr[middleIndex]:\n",
        "            lastIndex = middleIndex - 1\n",
        "        else:\n",
        "            firstIndex = middleIndex + 1\n",
        "if ditemukan:\n",
        "    print('Number %s is Found in List'% arr)\n",
        "else:\n",
        "    print('Number %s not Found in List' % arr)"
      ],
      "execution_count": null,
      "outputs": []
    }
  ]
}